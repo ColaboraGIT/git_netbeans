{
  "nbformat": 4,
  "nbformat_minor": 0,
  "metadata": {
    "colab": {
      "name": "Git en Netbeans",
      "provenance": [],
      "collapsed_sections": [],
      "authorship_tag": "ABX9TyNvDlXpsYcg9g79HQ7QJMxO",
      "include_colab_link": true
    },
    "kernelspec": {
      "name": "python3",
      "display_name": "Python 3"
    }
  },
  "cells": [
    {
      "cell_type": "markdown",
      "metadata": {
        "id": "view-in-github",
        "colab_type": "text"
      },
      "source": [
        "<a href=\"https://colab.research.google.com/github/ColaboraGIT/git_netbeans/blob/master/Git_en_Netbeans.ipynb\" target=\"_parent\"><img src=\"https://colab.research.google.com/assets/colab-badge.svg\" alt=\"Open In Colab\"/></a>"
      ]
    },
    {
      "cell_type": "markdown",
      "metadata": {
        "id": "s2cfBkmxya5Z"
      },
      "source": [
        "# Usando Git en Apache NetBeans\n",
        "\n",
        "Apache NetBeans IDE proporciona soporte para el [sistema de control de versiones de Git](https://git-scm.com/). Las funciones de Git del IDE le permiten realizar tareas de control de versiones directamente desde sus proyectos y en el código dentro del IDE.\n",
        "\n",
        "Este documento demuestra cómo realizar tareas de control de versiones en el IDE al guiarlo a través del flujo de trabajo estándar al usar Git."
      ]
    },
    {
      "cell_type": "markdown",
      "metadata": {
        "id": "bU2BX995AhSX"
      },
      "source": [
        "# Creación de un proyecto para las pruebas\n",
        "\n",
        "Vamos a crear un proyecto en Netbeans sobre el que trabajar. Para ello, accederemos a `File` > `New Project...`\n",
        "\n",
        "El proyecto que vamos a utilizar de base será de Java Ant básico, tal y como aparece en las siguientes imágenes:\n",
        "![Proyecto Java with Ant](https://raw.githubusercontent.com/ColaboraGIT/git_netbeans/master/images/01_javaAnt.png)\n",
        "\n",
        "![Proyecto Java with Ant](https://raw.githubusercontent.com/ColaboraGIT/git_netbeans/master/images/02_javaAnt_Activate.png)\n",
        "\n",
        "![Proyecto Java with Ant](https://raw.githubusercontent.com/ColaboraGIT/git_netbeans/master/images/03_javaAnt_JavaApplicationForGit.png)\n",
        "\n",
        "Tras personalizar estas dos ventanas, podemos hacer click en `Finish`.\n",
        "\n"
      ]
    },
    {
      "cell_type": "markdown",
      "metadata": {
        "id": "ZH1tZGjKyiCl"
      },
      "source": [
        "## Inicializando un repositorio de Git\n",
        "Para inicializar un repositorio de Git a partir de archivos existentes que aún no están en control de código fuente, debe completar los siguientes pasos:\n",
        "\n",
        "1. En la ventana Proyectos, seleccione un proyecto sin versión y haga clic con el botón derecho en el nombre del proyecto.\n",
        "\n",
        "2. En el menú contextual, elija ``Versioning`` > ``Initialize Git Repository`` (alternativamente, en el menú principal, elija ``Team`` > ``Git`` > ``Initialize Git Repository``).\n",
        "\n",
        "![Initialize Repo](https://raw.githubusercontent.com/ColaboraGIT/git_netbeans/master/images/04_InitializeGitRepo.png)\n",
        "\n",
        "3. Especifique la ruta al repositorio en el que va a almacenar sus archivos versionados en el cuadro de diálogo ``Initialize a Git Repository`` o haga clic en ``Browse`` y busque el directorio requerido.\n",
        "\n",
        "![Initialize Repo Folder](https://raw.githubusercontent.com/ColaboraGIT/git_netbeans/master/images/05_InitializeRepo_Folder.png)\n",
        "4. Haga clic en OK.\n",
        "\n",
        "Se crea una subcarpeta ``.git`` en la carpeta que especificó en el paso 3 anterior (la carpeta de su proyecto NetBeans de forma predeterminada), que es su repositorio Git donde se almacenan todos los datos de las instantáneas de su proyecto. Git comienza a crear versiones de todos los archivos en la carpeta que especificó.\n",
        "\n",
        "Todos los archivos del proyecto están marcados como `Added` en su Árbol de trabajo. Para ver el [estado](#status) de un archivo, coloque el cursor sobre el nombre del archivo en la ventana Proyectos. El estado del archivo en el árbol de trabajo se muestra en verde a la derecha de la barra, como se muestra en la siguiente imagen.\n",
        "\n",
        "![Ficheros añadidos](https://raw.githubusercontent.com/ColaboraGIT/git_netbeans/master/images/06_AddedFiles.png)\n",
        "\n",
        "Después de inicializar el repositorio de Git, puede [agregar](#add) archivos o directamente [confirmar](#commit) en el repositorio de Git.\n"
      ]
    },
    {
      "cell_type": "markdown",
      "metadata": {
        "id": "U0XK_PvR1sjt"
      },
      "source": [
        "## Clonación de un repositorio de Git\n",
        "\n",
        "Para obtener una copia de un repositorio de Git ya existente, debe clonarlo. Asegúrese de conocer la URL del repositorio de Git antes de iniciar el asistente Clonar repositorio en el IDE.\n",
        "\n",
        "  1. Elija ``Team`` > ``Remote`` > ``Clone`` en el menú principal. Aparece el asistente Clonar repositorio.\n",
        "![Remote clone](https://raw.githubusercontent.com/ColaboraGIT/git_netbeans/master/images/07_TeamRemoteClone.png)\n",
        "\n",
        "  1. En la página Repositorio, especifique la ruta a la ubicación del repositorio Git, el nombre de usuario y la contraseña (puede guardarlos para el futuro si es necesario). En nuestro caso: https://github.com/ColaboraGIT/contingencia.git\n",
        "\n",
        "![Clone Contingencia](https://raw.githubusercontent.com/ColaboraGIT/git_netbeans/master/images/08_CloneContingencia.png)\n",
        "\n",
        "  2. (Opcional) Haga clic en Configuración de proxy para mostrar el cuadro de diálogo Opciones y establecer la configuración del servidor proxy. Haga clic en Aceptar cuando haya terminado.\n",
        "\n",
        "  3. Haga clic en `Next` para pasar al siguiente paso del asistente.\n",
        "\n",
        "  4. En la página Ramas remotas, seleccione las ramas del repositorio que se van a buscar (*master) en su repositorio local. Haga clic en Siguiente.!\n",
        "  \n",
        "![Select Master Branch](https://raw.githubusercontent.com/ColaboraGIT/git_netbeans/master/images/09_SelectMasterBranch.png)\n",
        "  \n",
        "  5. En la página Directorio de destino, especifique lo siguiente:\n",
        "\n",
        "![Destination Directory](https://raw.githubusercontent.com/ColaboraGIT/git_netbeans/master/images/10_DestinationDirectory.png)\n",
        "  6. Haga clic en Finalizar.\n",
        "Después de clonar un repositorio de Git, se crea la carpeta de metadatos ``.git`` dentro de la carpeta que seleccionó en el asistente.\n",
        "  7. Si nos pregunta si queremos crear un proyecto, activaremos `Open Sources in Favourites` y pulsaremos sobre `Close`\n",
        "\n",
        "![Open in Favourites](https://raw.githubusercontent.com/ColaboraGIT/git_netbeans/master/images/11_OpenInFavourites.png)"
      ]
    },
    {
      "cell_type": "markdown",
      "metadata": {
        "id": "CZi5BzJBg1DM"
      },
      "source": [
        "### <a name=\"add\">Agregar archivos a un repositorio de Git</a>\n",
        "\n",
        "Para comenzar a rastrear un nuevo archivo y también para realizar cambios en un archivo ya rastreado en el repositorio de Git, debe agregarlo al repositorio.\n",
        "\n",
        "Al agregar archivos a un repositorio de Git, el IDE compone y guarda instantáneas de su proyecto primero en el índice. Después de realizar la confirmación, el IDE guarda esas instantáneas en HEAD.\n",
        "1. Vamos a añadir una clase al paquete `javaapplicationforgit` desde la ventana de proyectos.\n",
        "![New Java Class](https://raw.githubusercontent.com/ColaboraGIT/git_netbeans/master/images/12_NewJavaClass.png)\n",
        "![Adding class](https://raw.githubusercontent.com/ColaboraGIT/git_netbeans/master/images/13_AddingClass.png)\n",
        "\n",
        "2. En el menú contextual, elija `Git`> `Add`. Esto agrega el contenido del archivo al índice antes de enviarlo.\n",
        "![Adding File](https://raw.githubusercontent.com/ColaboraGIT/git_netbeans/master/images/14_Adding_File.png)\n",
        "3. En la ventana Proyectos, haga clic con el botón derecho en el archivo que desea confirmar.\n",
        "![Commit File](https://raw.githubusercontent.com/ColaboraGIT/git_netbeans/master/images/15_CommitJavaApplicationForGit_java.png)\n",
        "4. En el cuadro de diálogo Confirmar, seleccione el botón de alternancia Cambios entre HEAD e Índice ![](https://raw.githubusercontent.com/apache/netbeans-website/master/netbeans.apache.org/src/content/kb/docs/ide/images/changes-head-index.png). Esto muestra la lista de archivos que ya están almacenados.\n",
        "> **Nota:** En función de si queremos confirmar un archivo que ya ha sido añadido o no, podremos observar los cambios entre el HEAD y el index o el HEAD y el directorio de trabajo.\n",
        "\n",
        "5. Confirme el(los) archivo(s) como se describe en la sección [Confirmación de fuentes en un repositorio](#commit). De momento, únicamente hacemos click en el botón `Commit`.\n",
        "![Commit File Not Added](https://raw.githubusercontent.com/ColaboraGIT/git_netbeans/master/images/16_CommitFileNotAdded.png)\n",
        "\n",
        "> NOTA: El [estado](#status) del archivo habrá cambiado, desapareciendo el color verde que anteriormente tenía.\n",
        "\n",
        "La acción funciona de forma recursiva si se invoca en carpetas respetando la estructura de contenido de la carpeta plana de NetBeans IDE."
      ]
    },
    {
      "cell_type": "markdown",
      "metadata": {
        "id": "tjVCqCP1Oulz"
      },
      "source": [
        "### Editar archivos\n",
        "\n",
        "Una vez que tenga un proyecto con versión de Git abierto en el IDE, puede comenzar a realizar cambios en las fuentes. Al igual que con cualquier proyecto abierto en NetBeans IDE, puede abrir archivos en el Editor de código fuente haciendo doble clic en sus nodos, tal como aparecen en las ventanas del IDE (por ejemplo, Proyectos (Ctrl-1), Archivos (Ctrl-2), Favoritos (Ctrl-3) ).\n",
        "\n",
        "Al trabajar con archivos de origen en el IDE, hay varios componentes de la interfaz de usuario a su disposición, que ayudan tanto en la visualización como en el funcionamiento de los comandos de control de versiones:\n",
        "\n",
        "\n",
        "-   [Visualización de cambios en el editor de código](#cambiosEditor)\n",
        "\n",
        "-   [Visualización de información de estado del archivo](#_viewing_file_status_information)\n",
        "\n",
        "-   [Deshaciendo cambios](#reverting_changes)"
      ]
    },
    {
      "cell_type": "markdown",
      "metadata": {
        "id": "E56mN-IsSrVV"
      },
      "source": [
        "### <a name=\"cambiosEditor\"></a>Visualización de cambios en el editor\n",
        "\n",
        "Cuando abre un archivo versionado en el editor de código fuente del IDE, puede ver los cambios en tiempo real que ocurren en su archivo a medida que lo modifica con respecto a la versión base del repositorio de Git. Mientras trabaja, el IDE utiliza códigos de colores en los márgenes del Editor de fuentes para transmitir la siguiente información:\n",
        "\n",
        "* **Azul.** Indica líneas que se han cambiado desde la revisión anterior.\n",
        "* **Verde.** Indica líneas que se han agregado desde la revisión anterior.\n",
        "* **Rojo.** Indica líneas que se han eliminado desde la revisión anterior.\n",
        "\n",
        "El margen izquierdo del editor de código fuente muestra los cambios que ocurren línea por línea. Cuando modifica una línea determinada, los cambios se muestran inmediatamente en el margen izquierdo.\n",
        "\n",
        "![](https://raw.githubusercontent.com/apache/netbeans-website/master/netbeans.apache.org/src/content/kb/docs/ide/images/left-margin.png)\n",
        "\n",
        "\n",
        "> NOTA: Puede hacer clic en una agrupación de colores en el margen para llamar a los comandos de control de versiones. Por ejemplo, la siguiente imagen muestra los widgets disponibles al hacer clic en un icono rojo que indica que las líneas se han eliminado de su copia local:\n",
        "\n",
        "![](https://raw.githubusercontent.com/apache/netbeans-website/master/netbeans.apache.org/src/content/kb/docs/ide/images/left-widgets.png)\n",
        "\n",
        "El margen derecho del Editor de fuentes le proporciona una descripción general que muestra los cambios realizados en su archivo como un todo, de arriba a abajo. La codificación de colores se genera inmediatamente cuando realiza cambios en su archivo.\n",
        "\n",
        "![](https://raw.githubusercontent.com/apache/netbeans-website/master/netbeans.apache.org/src/content/kb/docs/ide/images/right-margin.png)\n",
        "\n",
        "> Nota *: Puede hacer clic en un punto específico dentro del margen para llevar su cursor en línea inmediatamente a esa ubicación en el archivo. Para ver la cantidad de líneas afectadas, pase el mouse sobre los íconos de colores en el margen derecho:\n",
        "\n",
        "![](https://raw.githubusercontent.com/apache/netbeans-website/master/netbeans.apache.org/src/content/kb/docs/ide/images/right-lines-number.png)\n"
      ]
    },
    {
      "cell_type": "markdown",
      "metadata": {
        "id": "YC7Yzqe_PFah"
      },
      "source": [
        "### <a name=\"status\">Visualización de la información del estado del archivo</a>\n",
        "\n",
        "Cuando trabaja en las vistas Proyectos (Ctrl-1), Archivos (Ctrl-2), Favoritos (Ctrl-3) o Control de versiones, el IDE proporciona varias funciones visuales que ayudan a ver la información de estado de sus archivos. En el siguiente ejemplo, observe cómo la insignia (por ejemplo, ![](https://raw.githubusercontent.com/apache/netbeans-website/master/netbeans.apache.org/src/content/kb/docs/ide/images/blue-badge.png)), el color del nombre del archivo y la etiqueta de estado adyacente coinciden entre sí para brindarle una manera simple pero efectiva de realizar un seguimiento de la información de versiones de sus archivos:\n",
        "\n",
        "![](https://raw.githubusercontent.com/apache/netbeans-website/master/netbeans.apache.org/src/content/kb/docs/ide/images/file-status.png)\n",
        "\n",
        "Las insignias, la codificación de colores, las etiquetas de estado de los archivos y, quizás lo más importante, el visor de diferencias de Git contribuyen a su capacidad para ver y administrar de manera efectiva la información de versiones en el IDE.\n",
        "\n",
        "-   [insignias y codificación de colores](#_badges_and_color_coding)\n",
        "\n",
        "-   [etiquetas de estado de archivo](#_file_status_labels)\n",
        "\n",
        "-   [Vista de control de versiones de Git](#_git_versioning_view)"
      ]
    },
    {
      "cell_type": "markdown",
      "metadata": {
        "id": "B3yKYv8gPWSN"
      },
      "source": [
        "#### Insignias y codificación de colores\n",
        "\n",
        "Las insignias se aplican a los nodos de proyectos, carpetas y paquetes y le informan del estado de los archivos contenidos en ese nodo:\n",
        "\n",
        "La siguiente tabla muestra el esquema de color utilizado para las insignias:\n",
        "\n",
        "<table>\n",
        "<colgroup>\n",
        "<col style=\"width: 50%\" />\n",
        "<col style=\"width: 50%\" />\n",
        "</colgroup>\n",
        "<tbody>\n",
        "<tr class=\"odd\">\n",
        "<td><p>Componente de interfaz de usuario</p></td>\n",
        "<td><p>Descripción</p></td>\n",
        "</tr>\n",
        "<tr class=\"even\">\n",
        "<td><p><strong>Insignia Azul</strong> <img src=\"https://raw.githubusercontent.com/apache/netbeans-website/master/netbeans.apache.org/src/content/kb/docs/ide/images/blue-badge.png\" alt=\"images/blue-badge.png\" /></p></td>\n",
        "<td><p>Indica la presencia de archivos que han sido modificados, agregados o eliminados en su árbol de trabajo. Para los paquetes, esta insignia se aplica solo al paquete en sí y no a sus subpaquetes. Para proyectos o carpetas, la insignia indica cambios dentro de ese elemento o cualquiera de las subcarpetas contenidas.</p></td>\n",
        "</tr>\n",
        "<tr class=\"odd\">\n",
        "<td><p><strong>Insignia Roja</strong> <img src=\"https://raw.githubusercontent.com/apache/netbeans-website/master/netbeans.apache.org/src/content/kb/docs/ide/images/red-badge.png\" alt=\"images/red-badge.png\" /></p></td>\n",
        "<td><p>Marca proyectos, carpetas o paquetes que contienen archivos con _conflictos_. Para los paquetes, esta insignia se aplica solo al paquete en sí y no a sus subpaquetes. Para proyectos o carpetas, la insignia indica conflictos dentro de ese elemento o cualquiera de las subcarpetas contenidas.</p></td>\n",
        "</tr>\n",
        "</tbody>\n",
        "</table>\n"
      ]
    },
    {
      "cell_type": "markdown",
      "metadata": {
        "id": "P2HyLRNHPkEY"
      },
      "source": [
        "#### <a name=\"cambiosEditor\"></a>Etiquetas de estado de archivo\n",
        "\n",
        "La codificación de colores se aplica a los nombres de los archivos para indicar su estado actual en el repositorio:\n",
        "\n",
        "| Color | Ejemplo | Descripción |\n",
        "| --- | --- | --- |\n",
        "| **Sin color específico (negro)** | ![](https://raw.githubusercontent.com/apache/netbeans-website/master/netbeans.apache.org/src/content/kb/docs/ide/images/black-text.png) | Indica que el archivo no tiene cambios.\n",
        "| **Azul** | ![](https://raw.githubusercontent.com/apache/netbeans-website/master/netbeans.apache.org/src/content/kb/docs/ide/images/blue-text.png) | Indica que el archivo se ha modificado localmente.\n",
        "| **Verde** | ![](https://raw.githubusercontent.com/apache/netbeans-website/master/netbeans.apache.org/src/content/kb/docs/ide/images/green-text.png) | Indica que el archivo se ha agregado localmente.\n",
        "| **Rojo** | ![](https://raw.githubusercontent.com/apache/netbeans-website/master/netbeans.apache.org/src/content/kb/docs/ide/images/red-text.png) | Indica que el archivo tiene un conflicto de fusión.\n",
        "| **Gris** | ![](https://raw.githubusercontent.com/apache/netbeans-website/master/netbeans.apache.org/src/content/kb/docs/ide/images/gray-text.png) | Indica que Git ignora el archivo y no se incluirá en los comandos de control de versiones (por ejemplo, Actualizar y Confirmar). Los archivos no se pueden ignorar si están versionados."
      ]
    },
    {
      "cell_type": "markdown",
      "metadata": {
        "id": "e9CugjzsP4tP"
      },
      "source": [
        "#### Vista de control de versiones de Git\n",
        "\n",
        "La vista de control de versiones de Git le proporciona una lista en tiempo real de todos los cambios realizados en los archivos dentro de una carpeta seleccionada de su árbol de trabajo local.\n",
        "\n",
        "Para abrir la vista Control de versiones, seleccione un archivo o carpeta con versión (por ejemplo, de la ventana Proyectos, Archivos o Favoritos) y elija ``Git``> ``Show Changes`` en el menú del botón derecho o elija ``Team``> ``Show Changes`` en el menú principal. La siguiente ventana aparece en la parte inferior del IDE:\n",
        "![](https://raw.githubusercontent.com/apache/netbeans-website/master/netbeans.apache.org/src/content/kb/docs/ide/images/versioning-view-small.png)\n",
        "\n",
        "De forma predeterminada, la vista Control de versiones muestra una lista de todos los archivos modificados dentro del paquete o carpeta seleccionados en su Árbol de trabajo. Usando los botones de la barra de herramientas, puede elegir mostrar la lista de archivos que tienen diferencias entre Índice y HEAD, Árbol de trabajo e Índice o Árbol de trabajo y HEAD. También puede hacer clic en los encabezados de las columnas sobre los archivos enumerados para ordenar los archivos por nombre, estado o ubicación.\n",
        "\n",
        "La barra de herramientas de la vista Versionado también incluye botones que le permiten invocar las tareas de Git más comunes en todos los archivos que se muestran en la lista. La siguiente tabla enumera los comandos de Git disponibles en la barra de herramientas de la vista Versionado:\n",
        "\n",
        "| Icono | Nombre | Función\n",
        "| --- | --- | ---\n",
        "| ![](https://raw.githubusercontent.com/apache/netbeans-website/master/netbeans.apache.org/src/content/kb/docs/ide/images/changes-head-wt.png) | **Cambios entre HEAD y Working Tree** | Muestra una lista de archivos que ya están preparados o solo modificados / creados y aún no preparados.\n",
        "| ![](https://raw.githubusercontent.com/apache/netbeans-website/master/netbeans.apache.org/src/content/kb/docs/ide/images/changes-head-index.png) | **Cambios entre HEAD e Index** | Muestra una lista de archivos organizados.\n",
        "| ![](https://raw.githubusercontent.com/apache/netbeans-website/master/netbeans.apache.org/src/content/kb/docs/ide/images/changes-index-wt.png) | **Cambios entre el índice y el árbol de trabajo** | Muestra archivos que tienen diferencias entre sus estados por etapas y el árbol de trabajo.\n",
        "| ![](https://raw.githubusercontent.com/apache/netbeans-website/master/netbeans.apache.org/src/content/kb/docs/ide/images/refresh.png) | **Actualizar estados** | Actualiza el estado de los archivos y carpetas seleccionados. Los archivos que se muestran en la vista Control de versiones se pueden actualizar para reflejar cualquier cambio que se haya realizado externamente.\n",
        "| ![](https://raw.githubusercontent.com/apache/netbeans-website/master/netbeans.apache.org/src/content/kb/docs/ide/images/open-diff.png) | **Open Diff** | Abre el visor de diferencias que le proporciona una comparación en paralelo de sus copias locales y las versiones mantenidas en el repositorio.\n",
        "| ![](https://raw.githubusercontent.com/apache/netbeans-website/master/netbeans.apache.org/src/content/kb/docs/ide/images/update.png) | **Revertir modificaciones** | Muestra el cuadro de diálogo << revertdialog, Revert Modifications >>.\n",
        "| ![](https://raw.githubusercontent.com/apache/netbeans-website/master/netbeans.apache.org/src/content/kb/docs/ide/images/commit-button.png) | **Confirmar cambios** | Muestra el cuadro de diálogo << commitdialog, Commit >>.\n",
        "\n",
        "\n",
        "Puede acceder a otros comandos de Git en la vista Control de versiones seleccionando una fila de la tabla que corresponda a un archivo modificado y eligiendo un comando en el menú contextual:\n",
        "\n",
        "![](https://raw.githubusercontent.com/apache/netbeans-website/master/netbeans.apache.org/src/content/kb/docs/ide/images/versioning-right-click-small.png)"
      ]
    },
    {
      "cell_type": "markdown",
      "metadata": {
        "id": "FGXWGnCePtw3"
      },
      "source": [
        "### Comparación de revisiones de archivos\n",
        "\n",
        "Comparar versiones de archivos es una tarea común cuando se trabaja con proyectos versionados. El IDE le permite comparar revisiones mediante el comando Diff:\n",
        "\n",
        "NOTA: Hay varios modos de comparación disponibles en el IDE: Diferenciar con HEAD, Diferenciar con seguimiento y Diferenciar con.\n",
        "\n",
        "1. Seleccione un archivo o carpeta con versión (por ejemplo, de la ventana ``Proyectos``, ``Archivos`` o ``Favoritos``).\n",
        "2. Elija ``Team``> ``Diff``> ``Diff to HEAD`` en el menú principal.\n",
        "Se abre un visor de diferencias gráfico para los archivos seleccionados y las revisiones en la ventana principal del IDE. El visor de diferencias muestra dos copias en paneles uno al lado del otro. La copia más actual aparece en el lado derecho, por lo que si está comparando una revisión del repositorio con su árbol de trabajo, el árbol de trabajo se muestra en el panel derecho:\n",
        "\n",
        "![](https://raw.githubusercontent.com/apache/netbeans-website/master/netbeans.apache.org/src/content/kb/docs/ide/images/diff-viewer-small.png)\n",
        "\n",
        "El visor de diferencias hace uso de la misma [tabla de codificación de colores](#color-coding-table) que se usa en otros lugares para mostrar los cambios de control de versiones. En la captura de pantalla que se muestra arriba, el bloque verde indica contenido que se ha agregado a la revisión más actual. El bloque rojo indica que el contenido de la revisión anterior se ha eliminado de la última. El azul indica que se han producido cambios dentro de las líneas resaltadas.\n",
        "\n",
        "> NOTA: Se pueden seleccionar otras revisiones de las listas desplegables ``Diff`` y ``to`` debajo de la barra de herramientas del Visor de diferencias.\n",
        "\n",
        "La barra de herramientas del Visor de diferencias también incluye botones que le permiten invocar las tareas de Git más comunes en todos los archivos que se muestran en la lista. La siguiente tabla enumera los comandos de Git disponibles en la barra de herramientas del visor de diferencias:\n",
        "\n",
        "| Icono | Nombre | Función\n",
        "| --- | --- | --- \n",
        "| ![](https://raw.githubusercontent.com/apache/netbeans-website/master/netbeans.apache.org/src/content/kb/docs/ide/images/changes-head-wt.png)| **Cambios entre HEAD y Working Tree** | Muestra una lista de archivos que ya están preparados o solo modificados / creados y aún no preparados.\n",
        "| ![](https://raw.githubusercontent.com/apache/netbeans-website/master/netbeans.apache.org/src/content/kb/docs/ide/images/changes-head-index.png) | **Cambios entre HEAD e Index** | Muestra una lista de archivos organizados.\n",
        "| ![](https://raw.githubusercontent.com/apache/netbeans-website/master/netbeans.apache.org/src/content/kb/docs/ide/images/changes-index-wt.png) | **Cambios entre el índice y el árbol de trabajo** | Muestra archivos que tienen diferencias entre sus estados de árbol por etapas y de trabajo.\n",
        "| ![](https://raw.githubusercontent.com/apache/netbeans-website/master/netbeans.apache.org/src/content/kb/docs/ide/images/nextdiff.png) | **Ir a la siguiente diferencia** | Muestra la siguiente diferencia en el archivo.\n",
        "| ![](https://raw.githubusercontent.com/apache/netbeans-website/master/netbeans.apache.org/src/content/kb/docs/ide/images/prevdiff.png) | **Ir a la diferencia anterior** | Muestra la diferencia anterior en el archivo.\n",
        "| ![](https://raw.githubusercontent.com/apache/netbeans-website/master/netbeans.apache.org/src/content/kb/docs/ide/images/refresh.png) | **Actualizar estados** | Actualiza el estado de los archivos y carpetas seleccionados. Los archivos que se muestran en la ventana Control de versiones se pueden actualizar para reflejar cualquier cambio que se haya realizado externamente.\n",
        "| ![](https://raw.githubusercontent.com/apache/netbeans-website/master/netbeans.apache.org/src/content/kb/docs/ide/images/update.png) | **Revertir modificaciones** | Muestra el cuadro de diálogo << revertdialog, Revert Modifications >>.\n",
        "| ![](https://raw.githubusercontent.com/apache/netbeans-website/master/netbeans.apache.org/src/content/kb/docs/ide/images/commit-button.png) | **Confirmar cambios** | Muestra el cuadro de diálogo [Commit](#commitdialog).\n",
        "\n",
        "Si está realizando una diferencia en su copia local en el árbol de trabajo, el IDE le permite realizar cambios directamente desde el visor de diferencias. Para hacerlo, puede colocar el cursor en el panel derecho del Visor de diferencias y modificar su archivo en consecuencia; de lo contrario, utilice los iconos en línea que se muestran junto a cada cambio resaltado:\n",
        "\n",
        "| Icono | Nombre | Función\n",
        "| --- | --- | ---\n",
        "| ![](https://raw.githubusercontent.com/apache/netbeans-website/master/netbeans.apache.org/src/content/kb/docs/ide/images/insert.png) | **Reemplazar** | Inserta el texto resaltado en su copia del Árbol de trabajo.\n",
        "| ![](https://raw.githubusercontent.com/apache/netbeans-website/master/netbeans.apache.org/src/content/kb/docs/ide/images/arrow.png) | **Mover todo** | Revierte toda la copia del árbol de trabajo local.\n",
        "| ![](https://raw.githubusercontent.com/apache/netbeans-website/master/netbeans.apache.org/src/content/kb/docs/ide/images/remove.png) | **Eliminar** | Elimina el texto resaltado de la copia del Árbol de trabajo local."
      ]
    },
    {
      "cell_type": "markdown",
      "metadata": {
        "id": "J0hN_7DYQQlN"
      },
      "source": [
        "### <a name=\"reverting_changes\"></a>Revertir cambios\n",
        "\n",
        "Para deshacerse de los cambios locales realizados en los archivos seleccionados en su Árbol de trabajo y reemplazar esos archivos con los del Índice o HEAD:\n",
        "\n",
        "1. Seleccione un archivo o carpeta con versión (por ejemplo, de la ventana ``Proyectos``, ``Archivos`` o ``Favoritos``).\n",
        "2. Elija ``Team``> ``Revert Modifications`` en el menú principal.\n",
        "Aparece el cuadro de diálogo ``Revert Modifications``.\n",
        "\n",
        "![](https://raw.githubusercontent.com/apache/netbeans-website/master/netbeans.apache.org/src/content/kb/docs/ide/images/revert.png)\n",
        "\n",
        "1. Especifique opciones adicionales (p. Ej., ``Revertir solo los cambios no confirmados en el índice a HEAD``).\n",
        "2. Haga clic en Revertir.\n",
        "\n",
        "El IDE reemplaza los archivos seleccionados con los especificados en el paso anterior."
      ]
    },
    {
      "cell_type": "markdown",
      "metadata": {
        "id": "xG4VSByqQcge"
      },
      "source": [
        "## <a name=\"commit\">Confirmación de fuentes en un repositorio</a>\n",
        "\n",
        "Para enviar archivos al repositorio de Git:\n",
        "\n",
        "1. En la ventana ``Proyectos``, haga clic con el botón derecho en los archivos que desea confirmar.\n",
        "2. En el menú contextual, elija ``Git``> ``Commit``.\n",
        "\n",
        "Aparece el cuadro de diálogo ``Confirmar``.\n",
        "\n",
        "![](https://raw.githubusercontent.com/apache/netbeans-website/master/netbeans.apache.org/src/content/kb/docs/ide/images/commit-small.png)\n",
        "\n",
        "El cuadro de diálogo ``Confirmar`` contiene los siguientes componentes:\n",
        "\n",
        "* Área de texto ``Commit Message`` destinada a describir el cambio que se está cometiendo\n",
        "* Listas desplegables ``Author`` y ``Commiter`` que permiten diferenciar entre quienes realizaron el cambio y quienes cometieron físicamente el expediente si fuera necesario.\n",
        "* Sección ``Files to commit`` que enumera:\n",
        "* todos los archivos modificados,\n",
        "* todos los archivos que se han eliminado en el árbol de trabajo (localmente),\n",
        "* todos los archivos nuevos (es decir, archivos que aún no existen en el repositorio de Git),\n",
        "* todos los archivos cuyo nombre ha cambiado.\n",
        "\n",
        "Aquí están disponibles dos botones de alternancia que cambian el modo en el que se realizará la confirmación real:\n",
        "\n",
        "| Componente de interfaz de usuario | Nombre | Descripción\n",
        "| --- | --- | ---\n",
        "| ![](https://raw.githubusercontent.com/apache/netbeans-website/master/netbeans.apache.org/src/content/kb/docs/ide/images/changes-head-index.png) | **Cambios entre HEAD e Index** | Muestra una lista de archivos organizados.\n",
        "| ![](https://raw.githubusercontent.com/apache/netbeans-website/master/netbeans.apache.org/src/content/kb/docs/ide/images/changes-head-wt.png) | **Cambios entre HEAD y Working Tree** | Muestra una lista de archivos que ya están preparados o solo modificados / creados y aún no preparados.\n",
        "\n",
        "> **Nota**: Para especificar aquí si excluir archivos individuales de la confirmación, anule la selección de la casilla de verificación en la primera columna llamada ``Commit`` o haga clic con el botón derecho en una fila de archivo  y elija ``Exclude from Commit`` del menú emergente. Para mostrar el Visor de diferencias aquí, haga clic con el botón derecho en una fila de archivo y seleccione ``Diff`` en el menú emergente.\n",
        "\n",
        "1. Escriba un mensaje de confirmación en el área de texto ``Commit Message``. Alternativamente, puede realizar cualquiera de las siguientes acciones:\n",
        "\n",
        "  * haga clic en el icono ``Mensajes recientes`` (![](https://raw.githubusercontent.com/apache/netbeans-website/master/netbeans.apache.org/src/content/kb/docs/ide/images/recent-msgs.png)) ubicado en la esquina superior derecha para ver y seleccionar de una lista de mensajes que ha utilizado anteriormente,\n",
        "  * haga clic en el icono ``Cargar plantilla`` (![](https://raw.githubusercontent.com/apache/netbeans-website/master/netbeans.apache.org/src/content/kb/docs/ide/images/msg-template.png)) ubicado en la esquina superior derecha para seleccionar una plantilla de mensaje.\n",
        "\n",
        "  * Después de especificar acciones para archivos individuales, haga clic en ``Commit``.\n",
        "\n",
        "El IDE ejecuta la confirmación y almacena sus instantáneas en el repositorio. La barra de estado del IDE, ubicada en la parte inferior derecha de la interfaz, se muestra mientras se lleva a cabo la acción de confirmación. Tras una confirmación exitosa, las insignias de control de versiones desaparecen en las ventanas de ``Proyectos``, ``Archivos`` y ``Favoritos``, y la codificación de colores de los archivos confirmados vuelve a aparecer en negro."
      ]
    },
    {
      "cell_type": "markdown",
      "metadata": {
        "id": "lP_x5WlAQjhi"
      },
      "source": [
        "## Trabajar con ramas\n",
        "\n",
        "El soporte Git del IDE le permite mantener diferentes versiones de una base de código completa utilizando ramas.\n",
        "\n",
        "Al trabajar con sucursales en el IDE, se admiten las siguientes acciones:\n",
        "\n",
        "-   [Creando](#_creating_a_branch)\n",
        "\n",
        "-   [Checking out](#_checking_out)\n",
        "\n",
        "-   [Fusionando](#_merging)\n",
        "\n",
        "-   [Borrando](#_deleting)\n"
      ]
    },
    {
      "cell_type": "markdown",
      "metadata": {
        "id": "451M5vyBRHHx"
      },
      "source": [
        "### Creando una rama\n",
        "\n",
        "Para crear una sucursal local, si desea trabajar en una versión separada de su sistema de archivos con fines de estabilización o experimentación sin alterar el tronco principal, complete los siguientes pasos:\n",
        "\n",
        "1. En la ventana Proyectos o Archivos, elija un proyecto o carpeta del repositorio en el que desea crear la rama.\n",
        "2. En el menú principal, elija `Team` > `Branch/Tag` > `Create Branch`.\n",
        "\n",
        "NOTA: Como alternativa, haga clic con el botón derecho en el proyecto o carpeta con versión y seleccione `Git` > `Branch/Tag` > `Create Branch` en el menú emergente.\n",
        "\n",
        "Aparece el cuadro de diálogo **Crear rama**.\n",
        "\n",
        "![](https://raw.githubusercontent.com/apache/netbeans-website/master/netbeans.apache.org/src/content/kb/docs/ide/images/create-branch-small.png)\n",
        "\n",
        "1. En el campo Nombre de la rama, ingrese el nombre de la rama que se está creando.\n",
        "2. Escriba una confirmación específica del elemento seleccionado ingresando un ID de confirmación, una rama existente o un nombre de etiqueta en el campo versión o presione Seleccionar para ver la lista de confirmaciones mantenidas en el repositorio.\n",
        "3. (Opcional) En el cuadro de diálogo Seleccionar revisión, expanda Ramas y elija la rama requerida, especifique el ID de confirmación en la lista adyacente y presione Seleccionar.\n",
        "4. Revise la información de los campos Commit ID, Author, Message específica para la revisión desde la que se está ramificando y haga clic en Create.\n",
        "La rama se agrega a la carpeta ``Ramas / Local`` del repositorio de Git.\n",
        "\n",
        "![](https://raw.githubusercontent.com/apache/netbeans-website/master/netbeans.apache.org/src/content/kb/docs/ide/images/branch-added-small.png)"
      ]
    },
    {
      "cell_type": "markdown",
      "metadata": {
        "id": "wWvzGk3uRk4m"
      },
      "source": [
        "### Check Out\n",
        "\n",
        "Si necesita editar archivos en una rama que ya existe, puede consultar la rama para copiar los archivos a su Árbol de trabajo.\n",
        "\n",
        "Para verificar una revisión, realice lo siguiente:\n",
        "\n",
        "1. Elija `Team` > `Checkout` > `Checkout Revision` de pago en el menú principal.\n",
        "Aparece el cuadro de diálogo `Checkout Selected Revision`.\n",
        "\n",
        "![](https://raw.githubusercontent.com/apache/netbeans-website/master/netbeans.apache.org/src/content/kb/docs/ide/images/chkout-rev-small.png)\n",
        "\n",
        "1. Especifique la versión requerida ingresando un ID de confirmación, una rama existente o un nombre de etiqueta en el campo Revisión o presione Seleccionar para ver la lista de revisiones mantenidas en el repositorio.\n",
        "2. Omita si no presionó Seleccionar en el paso anterior. En el cuadro de diálogo Seleccionar revisión, expanda Ramas y elija la rama requerida, especifique el ID de confirmación en la lista adyacente si es necesario y presione Seleccionar.\n",
        "\n",
        "> **NOTA**: Si la revisión especificada se refiere a una confirmación válida que no está marcada con un nombre de rama, su HEAD se desconecta y ya no está en ninguna rama.\n",
        "\n",
        "1. Revise la información de los campos Commit ID, Author, Message específica de la revisión que se está extrayendo.\n",
        "2. Para crear una nueva rama a partir de la revisión extraída, elija la opción Pago como nueva sucursal e ingrese el nombre en el campo Nombre de la sucursal.\n",
        "3. Presione Checkout para verificar la revisión.\n",
        "Los archivos del árbol de trabajo y del índice se actualizan para que coincidan con la versión de la revisión especificada.\n",
        "\n",
        "> **NOTA**: Si desea cambiar sus archivos a una rama que ya existe (por ejemplo, a una confirmación que no está en la parte superior de una de sus ramas), puede usar el comando `Team` > `Branch/Tag` > `Switch to Branch`, especifique la rama en el cuadro de diálogo Cambiar a rama seleccionada, verifíquela como una nueva rama (opcionalmente) y presione Cambiar.\n",
        "\n"
      ]
    },
    {
      "cell_type": "markdown",
      "metadata": {
        "id": "z5Cnf3UIRN6o"
      },
      "source": [
        "### Fusionando\n",
        "\n",
        "Para transferir modificaciones de una revisión del repositorio al Árbol de trabajo, haga lo siguiente:\n",
        "\n",
        "1. Elija `Team` > `Branch/Tag` > `Merge Revision` en el menú principal.\n",
        "Aparece el cuadro de diálogo Fusionar revisión.\n",
        "\n",
        "![](https://raw.githubusercontent.com/apache/netbeans-website/master/netbeans.apache.org/src/content/kb/docs/ide/images/merge-small.png)\n",
        "\n",
        "1. Especifique la revisión requerida ingresando un ID de confirmación, una rama existente o un nombre de etiqueta en el campo Revisión o presione Seleccionar para ver la lista de revisiones mantenidas en el repositorio.\n",
        "2. Omita si no presionó Seleccionar en el paso anterior. En el cuadro de diálogo Seleccionar revisión, expanda Ramas y elija la rama requerida, especifique el ID de confirmación en la lista adyacente si es necesario y presione Seleccionar.\n",
        "3. Presione `Merge`.\n",
        "\n",
        "Se realiza una combinación de tres vías entre la rama actual, el contenido de su Árbol de trabajo y la rama especificada.\n",
        "\n",
        "> **NOTA**: Si ocurre un conflicto de combinación, el archivo en conflicto se marca con << insignias, una insignia roja >> para indicarlo.\n",
        "\n",
        "> **NOTA**: Después de fusionar, aún debe << confirmar, confirmar >> los cambios para que se agreguen al HEAD.\n",
        "\n"
      ]
    },
    {
      "cell_type": "markdown",
      "metadata": {
        "id": "MOanALdTRqrH"
      },
      "source": [
        "### Eliminando una rama\n",
        "\n",
        "Para eliminar una sucursal local innecesaria, complete los siguientes pasos:\n",
        "\n",
        "1. Elija `Team` > `Repository` > `Repository Browser` en el menú principal.\n",
        "2. En el navegador del repositorio de Git, elija la rama que desee eliminar.\n",
        "\n",
        "> **NOTA**: La rama debe estar inactiva, es decir, no verificada actualmente en el Árbol de trabajo.\n"
      ]
    },
    {
      "cell_type": "markdown",
      "metadata": {
        "id": "grc2Xfr_Rxfv"
      },
      "source": [
        "## Trabajando con repositorios remotos\n",
        "\n",
        "Cuando trabaja con otros desarrolladores, necesita compartir su trabajo, lo que implica buscar, enviar y extraer datos desde y hacia repositorios remotos alojados en Internet o en la red.\n",
        "\n",
        "-   [Fetching](#fetching)\n",
        "\n",
        "-   [Pulling](#pulling)\n",
        "\n",
        "-   [Pushing](#pushing)\n"
      ]
    },
    {
      "cell_type": "markdown",
      "metadata": {
        "id": "III3AoIvR2wQ"
      },
      "source": [
        "### Fetching\n",
        "\n",
        "La recuperación (`Fetching`) obtiene los cambios del repositorio remoto original que aún no tiene. Nunca cambia ninguna de sus ramas locales. La recuperación obtiene todas las ramas de repositorios remotos, que puede fusionar en su rama o simplemente inspeccionar en cualquier momento.\n",
        "\n",
        "Para obtener las actualizaciones, haga lo siguiente:\n",
        "\n",
        "1.  Elija `Team` > `Remote` > `Fetch`. Esto mostrará el asistente para Fetch del repositorio remoto\n",
        "\n",
        "![](https://raw.githubusercontent.com/apache/netbeans-website/master/netbeans.apache.org/src/content/kb/docs/ide/images/fetch-small.png)\n",
        "\n",
        "2.  En la página repositorio remoto del asistente, seleccione el repositorio configurado (para usar la ruta al repositorio configurado anteriormente) o la opción Especificar ubicación del repositorio Git (para definir la ruta a un repositorio remoto al que aún no se ha accedido, su nombre, configuración de inicio de sesión, contraseña y proxy si es necesario) y haga clic en Siguiente.\n",
        "\n",
        "3.  En la página de rama remota del asistente, elija la rama cuyos cambios quiere recuperar y haga click en `Finish`. Se creará una copia local de la rama remota. La rama remota será actualizada en `Branches` > `Remote` directorio en el navegador del repositorio de Git. A continuación, los cambios recuperados podrán ser fusionados con la rama local.\n"
      ]
    },
    {
      "cell_type": "markdown",
      "metadata": {
        "id": "PfpuTaQIR7vt"
      },
      "source": [
        "## Pulling\n",
        "\n",
        "Al extraer(pulling) algunas actualizaciones de un repositorio de Git remoto, los cambios se obtienen de él y se fusionan en el HEAD actual de su repositorio local. Para realizar la extracción, complete los siguientes pasos:\n",
        "\n",
        "1.  Elija `Team` > `Remote` > `Pull`. Se mostrará el asistente para hacer el Pull del Repositorio Remoto.\n",
        "\n",
        "![](https://raw.githubusercontent.com/apache/netbeans-website/master/netbeans.apache.org/src/content/kb/docs/ide/images/pull-small.png)\n",
        "\n",
        "2. En la página Repositorio remoto del asistente, seleccione el repositorio configurado (para usar la ruta al repositorio configurado anteriormente) o la opción Especificar ubicación del repositorio Git (para definir la ruta a un repositorio remoto al que aún no se ha accedido, su nombre y nombre de usuario y contraseña si es necesario) y haga clic en Siguiente.\n",
        "\n",
        "3. En la página Ramas remotas del asistente, elija las ramas de las que se extraerán los cambios y haga clic en Finalizar. Su repositorio local está sincronizado con el repositorio de origen.\n"
      ]
    },
    {
      "cell_type": "markdown",
      "metadata": {
        "id": "ztrXFh1MSFcG"
      },
      "source": [
        "Pushing\n",
        "-------\n",
        "\n",
        "Para incorporar los cambios de un repositorio local a un repositorio en el que tengas permisos, realice los siguientes cambios:\n",
        "\n",
        "> **Nota** Cuando vaya a llevar las confirmaciones locales a un repositorio y otros cambios hayan sido confirmados en dicho repositorio, será necesario hacer el PULL y MERGE de esos cambios antes.\n",
        "\n",
        "1.  Elija `Team` > `Remote` > `Push`. Se mostrará el asistente de PUSH a un repositorio remoto.\n",
        "\n",
        "![](https://raw.githubusercontent.com/apache/netbeans-website/master/netbeans.apache.org/src/content/kb/docs/ide/images/push-small.png)\n",
        "\n",
        "1. En la página Repositorio remoto del asistente, seleccione el Repositorio configurado (para usar la ruta al repositorio configurado antes) o la opción Especificar ubicación del repositorio de Git (para definir ruta a un repositorio remoto al que aún no se ha accedido, su nombre y nombre de usuario y contraseña si es necesario) y haga clic en Siguiente.\n",
        "\n",
        "2. En la página Seleccionar sucursales locales, elija las sucursales para enviar sus ediciones y haga clic en Siguiente.\n",
        "\n",
        "3. En la página Actualizar referencias locales, elija las ramas que desee actualizado en el directorio Remotes de su repositorio local y haga clic en Terminar. La rama de repositorio remoto especificada se actualiza con el último estado de su sucursal local.\n"
      ]
    },
    {
      "cell_type": "markdown",
      "metadata": {
        "id": "wyv5jcRFSMv2"
      },
      "source": [
        "## Resumen\n",
        "\n",
        "Este tutorial mostró cómo realizar tareas básicas de control de versiones en el IDE al guiarlo a través del flujo de trabajo estándar al usar el soporte Git del IDE. Demostró cómo configurar un proyecto versionado y realizar tareas básicas en archivos versionados mientras le presentaba algunas de las características específicas de Git incluidas en el IDE."
      ]
    }
  ]
}